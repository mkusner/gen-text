{
 "cells": [
  {
   "cell_type": "code",
   "execution_count": 1,
   "metadata": {
    "collapsed": false
   },
   "outputs": [
    {
     "name": "stderr",
     "output_type": "stream",
     "text": [
      "Using TensorFlow backend.\n"
     ]
    }
   ],
   "source": [
    "import sys\n",
    "sys.path.insert(0, '..')\n",
    "\n",
    "import equation_vae\n",
    "\n",
    "%matplotlib inline\n",
    "import numpy as np\n",
    "from numpy import sin, exp, cos\n",
    "from matplotlib import pyplot as plt\n",
    "\n",
    "from collections import defaultdict"
   ]
  },
  {
   "cell_type": "code",
   "execution_count": 2,
   "metadata": {
    "collapsed": false
   },
   "outputs": [
    {
     "name": "stderr",
     "output_type": "stream",
     "text": [
      "/usr/local/lib/python2.7/site-packages/keras/engine/topology.py:368: UserWarning: The `regularizers` property of layers/models is deprecated. Regularization losses are now managed via the `losses` layer/model property.\n",
      "  warnings.warn('The `regularizers` property of '\n"
     ]
    }
   ],
   "source": [
    "STEPS = 9\n",
    "\n",
    "grammar_weights = \"../eq_vae_grammar_h100_c234_L25_E50_batchB.hdf5\"\n",
    "grammar_model = equation_vae.EquationGrammarModel(grammar_weights, latent_rep_size=25)\n",
    "\n",
    "char_weights = \"../eq_vae_str_h100_c234_L25_E50_batchB.hdf5\"\n",
    "char_model = equation_vae.EquationCharacterModel(char_weights, latent_rep_size=25)"
   ]
  },
  {
   "cell_type": "markdown",
   "metadata": {},
   "source": [
    "# We want to interpolate between two equations, in each model."
   ]
  },
  {
   "cell_type": "code",
   "execution_count": 3,
   "metadata": {
    "collapsed": false
   },
   "outputs": [
    {
     "name": "stdout",
     "output_type": "stream",
     "text": [
      "SEED 0 DISTANCE 0.5238\n",
      "SEED 1 DISTANCE 1.0171\n",
      "SEED 2 DISTANCE 0.7144\n",
      "SEED 3 DISTANCE 1.0359\n",
      "SEED 4 DISTANCE 0.6471\n",
      "SEED 5 DISTANCE 0.9055\n",
      "SEED 6 DISTANCE 1.3074\n",
      "SEED 7 DISTANCE 0.9990\n",
      "SEED 8 DISTANCE 0.3888\n",
      "SEED 9 DISTANCE 1.2363\n"
     ]
    }
   ],
   "source": [
    "pairs = []\n",
    "char_seq = []\n",
    "\n",
    "for seed in xrange(10):\n",
    "    np.random.seed(seed)\n",
    "    z = np.random.randn(2,25)*np.random.uniform(0.05,0.2)\n",
    "    print \"SEED\", seed, \"DISTANCE %0.4f\" % np.sqrt(np.sum((z[0]-z[-1])**2))\n",
    "    # print z\n",
    "    steps = STEPS\n",
    "    z = (np.linspace(0,1,steps)[None,:]*z[0][:,None] + np.linspace(1,0,steps)[None,:]*z[1][:,None]).T\n",
    "    # print z.shape\n",
    "\n",
    "    rep = 200\n",
    "    z = z[:,None,:] * np.ones((steps,rep,25))\n",
    "    res = np.array(char_model.decode(z.reshape((steps*rep,25)))).reshape((steps,rep))\n",
    "\n",
    "    freq = [defaultdict(int) for i in xrange(steps)]\n",
    "\n",
    "    for i in xrange(steps):\n",
    "        for eq in list(res[i]):\n",
    "            if eq != '':\n",
    "                freq[i][eq] += 1\n",
    "        freq[i] = freq[i].items()\n",
    "        freq[i] = freq[i][np.argmax([c[1] for c in freq[i]])][0]\n",
    "\n",
    "    pairs.append((freq[0], freq[-1]))\n",
    "    char_seq.append(list(freq))\n",
    "    #print \"\\n\".join(freq)\n",
    "    #print \"\\n\\n\""
   ]
  },
  {
   "cell_type": "code",
   "execution_count": 4,
   "metadata": {
    "collapsed": false
   },
   "outputs": [
    {
     "name": "stdout",
     "output_type": "stream",
     "text": [
      "[['3*x+(x)+exp(3*x)' 'x*3+exp(3+exp(3)']\n",
      " ['1*3+(x)+ex)(x*3)' '2*2+(x)+exp(2/3)']\n",
      " ['2*x+(1)+exp(x*x)' '2*2+exp(1)+exp(x)']\n",
      " ['1/1+eep(33+sin11/1)' 'x*2+(3)+exp(2*2)']\n",
      " ['2*2+3+exp(x*3)' '3*2+exp(x)+(x/2)']\n",
      " ['3*3+sin(3)+(3*3)' 'x+2+exp(1)+sin(1*2)']\n",
      " ['3*3+sxp(2)+(x*1)' '1*3+exp(2)+(i*1)']\n",
      " ['3*x+sin(3)+sin(1)' '3*1+3+)(1*3)']\n",
      " ['3*x+exp(2)+(2*2)' 'x*1+sin(2)+(x*x)']\n",
      " ['2*3+exp33+1' '2*x+(x)++exp(x)3)']]\n",
      "\n",
      "[['2*x+(1)+exp(x*x)' '2*2+exp(1)+exp(x)']\n",
      " ['2*2+3+exp(x*3)' '3*2+exp(x)+(x/2)']\n",
      " ['3*3+sin(3)+(3*3)' 'x+2+exp(1)+sin(1*2)']\n",
      " ['3*x+exp(2)+(2*2)' 'x*1+sin(2)+(x*x)']]\n"
     ]
    }
   ],
   "source": [
    "def is_valid(eq):\n",
    "    try:\n",
    "        parsetree = grammar_model._parser.parse(equation_vae.tokenize(eq)).next()\n",
    "        return True\n",
    "    except:\n",
    "        return False\n",
    "\n",
    "valid_pair_ix = np.array([(is_valid(a) and is_valid(b)) for (a,b) in pairs])\n",
    "valid_pairs = np.array(pairs)[valid_pair_ix]\n",
    "\n",
    "print np.array(pairs)\n",
    "print\n",
    "print valid_pairs"
   ]
  },
  {
   "cell_type": "code",
   "execution_count": 5,
   "metadata": {
    "collapsed": false
   },
   "outputs": [],
   "source": [
    "z = grammar_model.encode(valid_pairs.ravel().tolist())\n",
    "\n",
    "def get_grammar_mode(z):\n",
    "    steps = z.shape[0]\n",
    "    rep = 100\n",
    "    z = z[:,None,:] * np.ones((steps,rep,25))\n",
    "    res = np.array(grammar_model.decode(z.reshape((steps*rep,25)))).reshape((steps,rep))\n",
    "\n",
    "    freq = [defaultdict(int) for i in xrange(steps)]\n",
    "\n",
    "    for i in xrange(steps):\n",
    "        for eq in list(res[i]):\n",
    "            if eq != '':\n",
    "                freq[i][eq] += 1\n",
    "        freq[i] = freq[i].items()\n",
    "        try:\n",
    "            freq[i] = freq[i][np.argmax([c[1] for c in freq[i]])][0]\n",
    "        except:\n",
    "            freq[i] = 'None'\n",
    "    return np.array(freq).reshape((steps/2,2)).tolist()\n"
   ]
  },
  {
   "cell_type": "markdown",
   "metadata": {},
   "source": [
    "## The grammar model will successfully encode some of these equations."
   ]
  },
  {
   "cell_type": "code",
   "execution_count": 6,
   "metadata": {
    "collapsed": false
   },
   "outputs": [
    {
     "name": "stdout",
     "output_type": "stream",
     "text": [
      "[['2*x+(1)+exp(x*x)' '2*2+exp(1)+exp(x)']\n",
      " ['2*2+3+exp(x*3)' '3*2+exp(x)+(x/2)']\n",
      " ['3*3+sin(3)+(3*3)' 'x+2+exp(1)+sin(1*2)']\n",
      " ['3*x+exp(2)+(2*2)' 'x*1+sin(2)+(x*x)']]\n"
     ]
    }
   ],
   "source": [
    "dec = get_grammar_mode(z)\n",
    "matched_pairs = []\n",
    "matched_ix = []\n",
    "matched_grammar_z = []\n",
    "for i in xrange(valid_pairs.shape[0]):\n",
    "    if np.all(np.array(map(str,dec[i])) == valid_pairs[i]):\n",
    "        matched_pairs.append(valid_pairs[i])\n",
    "        matched_ix.append(np.arange(len(pairs))[valid_pair_ix][i])\n",
    "        matched_grammar_z.append(z.reshape((-1,2,25))[i])\n",
    "\n",
    "print np.array(matched_pairs)"
   ]
  },
  {
   "cell_type": "markdown",
   "metadata": {},
   "source": [
    "### Results for the character model:"
   ]
  },
  {
   "cell_type": "code",
   "execution_count": 7,
   "metadata": {
    "collapsed": false
   },
   "outputs": [
    {
     "name": "stdout",
     "output_type": "stream",
     "text": [
      "2*x+(1)+exp(x*x)\n",
      "2*x+(2)+exp(x*3)\n",
      "2*x+(x)+exp(x*x)\n",
      "2*1+(x)+exp(x*3)\n",
      "2*2+exp3)+exp(2)\n",
      "3*3+exp(3)+exp(2)\n",
      "2*2+exp(3)+exp(2)\n",
      "2*x+exp(3)+exp(2)\n",
      "2*2+exp(1)+exp(x)\n",
      "\n",
      "2*2+3+exp(x*3)\n",
      "2*1+exexxexp(3)\n",
      "2*3+exp(3+ex*3)\n",
      "2*x+exp(3)+(x*1)\n",
      "3*1+exp(3)+(2*1)\n",
      "3*x+exp(3)+(2*1)\n",
      "3*x+exp(3)+(2*3)\n",
      "3*3+exp(3)+(x/3)\n",
      "3*2+exp(x)+(x/2)\n",
      "\n",
      "3*3+sin(3)+(3*3)\n",
      "x*3+exp(3)+(3*2)\n",
      "x+2+exp(x)+(2*3)\n",
      "x+2+exp(2)+(2*1)\n",
      "x+1+exp(1)+(1*2)\n",
      "x+2+exp(1)+(1*1)\n",
      "x+1+exp(x)+sin(1)\n",
      "x+x+exp(2)+sin(1*3)\n",
      "x+2+exp(1)+sin(1*2)\n",
      "\n",
      "3*x+exp(2)+(2*2)\n",
      "x*3+exp(1)+(2*3)\n",
      "x*3+exp(x)+(2*3)\n",
      "x*2+exp(x)+(x*1)\n",
      "x*x+exp(x)+(x*3)\n",
      "x*1+exp(x)+ex*3)\n",
      "2*1+exp(1)+ex*x)\n",
      "3*1+eip(x)+ex*2)\n",
      "x*1+sin(2)+(x*x)\n",
      "\n"
     ]
    }
   ],
   "source": [
    "for ix in matched_ix:\n",
    "    print char_seq[ix][0]\n",
    "    for j in xrange(1,len(char_seq[ix])):\n",
    "        if char_seq[ix][j] != char_seq[ix][j-1]:\n",
    "            print char_seq[ix][j]\n",
    "    print"
   ]
  },
  {
   "cell_type": "markdown",
   "metadata": {},
   "source": [
    "### For the grammar model, we have the corresponding points in the latent space:"
   ]
  },
  {
   "cell_type": "code",
   "execution_count": 8,
   "metadata": {
    "collapsed": false
   },
   "outputs": [
    {
     "name": "stdout",
     "output_type": "stream",
     "text": [
      "2*2+exp(1)+exp(x)\n",
      "2*2+exp(1)+exp(x*2)\n",
      "2*3+exp(1)+exp(x*x)\n",
      "2*x+(1)+exp(x*x)\n",
      "\n",
      "3*2+exp(x)+(x/2)\n",
      "2*2+exp(x)+(x)\n",
      "2*2+exp(3)+(x)\n",
      "2*2+3+(x/x)\n",
      "2*2+3+(x/3)\n",
      "2*2+3+(x*3)\n",
      "2*2+3+exp(x*3)\n",
      "\n",
      "x+2+exp(1)+sin(1*2)\n",
      "x+2+exp(x)+sin(1*2)\n",
      "x/2+sin(x)+exp(x*2)\n",
      "3/2+sin(x)+exp(x*3)\n",
      "3*2+sin(x)+exp(x*3)\n",
      "3*3+sin(3)+(x*3)\n",
      "3*3+sin(3)+(3*3)\n",
      "\n",
      "x*1+sin(2)+(x*x)\n",
      "x*1+exp(2)+(3*3)\n",
      "3*1+exp(2)+(3*3)\n",
      "3*x+exp(2)+(3*2)\n",
      "3*x+exp(2)+(2*2)\n",
      "\n"
     ]
    }
   ],
   "source": [
    "def interp_grammar(z_list, steps=STEPS):\n",
    "    for z in z_list:\n",
    "        z = (np.linspace(0,1,steps)[None,:]*z[0][:,None] + np.linspace(1,0,steps)[None,:]*z[1][:,None]).T\n",
    "        # print z.shape\n",
    "\n",
    "        rep = 100\n",
    "        z = z[:,None,:] * np.ones((steps,rep,25))\n",
    "        res = np.array(grammar_model.decode(z.reshape((steps*rep,25)))).reshape((steps,rep))\n",
    "\n",
    "        freq = [defaultdict(int) for i in xrange(steps)]\n",
    "\n",
    "        for i in xrange(steps):\n",
    "            for eq in list(res[i]):\n",
    "                if eq != '':\n",
    "                    freq[i][eq] += 1\n",
    "            freq[i] = freq[i].items()\n",
    "            freq[i] = freq[i][np.argmax([c[1] for c in freq[i]])][0]\n",
    "\n",
    "        print freq[0]\n",
    "        for j in xrange(1,len(freq)):\n",
    "            if freq[j] != freq[j-1]:\n",
    "                print freq[j]\n",
    "        print\n",
    "    \n",
    "interp_grammar(matched_grammar_z)"
   ]
  }
 ],
 "metadata": {
  "kernelspec": {
   "display_name": "Python 2",
   "language": "python",
   "name": "python2"
  },
  "language_info": {
   "codemirror_mode": {
    "name": "ipython",
    "version": 2
   },
   "file_extension": ".py",
   "mimetype": "text/x-python",
   "name": "python",
   "nbconvert_exporter": "python",
   "pygments_lexer": "ipython2",
   "version": "2.7.11"
  }
 },
 "nbformat": 4,
 "nbformat_minor": 0
}
